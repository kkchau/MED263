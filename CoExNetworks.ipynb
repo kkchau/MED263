{
 "cells": [
  {
   "cell_type": "markdown",
   "metadata": {},
   "source": [
    "# Identifying Gene Co-Expression Modules in the Developing Human Brain\n",
    "\n",
    "**Course**: MED263, \"Bioinformatics Applications to Human Disease\"  \n",
    "**Preparer**: Kevin Chau (kkchau@ucsd.edu)\n",
    "\n",
    "In this practical, we will be using R, along with other web-service tools, to identify and characterize gene co-expression modules from human brain developmental transcriptome expression data. We will be using publicly available gene expression data from the BrianSpan Atlas, creating the networks with Weighted Gene Co-Expression Network Analysis in R, and characterizing these modules with ENRICHR."
   ]
  },
  {
   "cell_type": "markdown",
   "metadata": {},
   "source": [
    "## Set-Up\n",
    "### Bioconductor packages\n"
   ]
  },
  {
   "cell_type": "code",
   "execution_count": null,
   "metadata": {},
   "outputs": [],
   "source": [
    "source(\"https://bioconductor.org/biocLite.R\")"
   ]
  },
  {
   "cell_type": "markdown",
   "metadata": {},
   "source": [
    "We will be using WGCNA for the actual network construction; data will be organized into \"Summarized Experiment\" objects for ease of use. Installation of these packages may take some time; look for output/progress in the terminal."
   ]
  },
  {
   "cell_type": "code",
   "execution_count": null,
   "metadata": {},
   "outputs": [],
   "source": [
    "biocLite(\"WGCNA\")"
   ]
  },
  {
   "cell_type": "code",
   "execution_count": null,
   "metadata": {},
   "outputs": [],
   "source": [
    "install.packages(c(\"matrixStats\", \"Hmisc\", \"splines\", \"foreach\", \"doParallel\", \"fastcluster\", \"dynamicTreeCut\", \"survival\"))"
   ]
  },
  {
   "cell_type": "code",
   "execution_count": null,
   "metadata": {},
   "outputs": [],
   "source": [
    "biocLite(\"SummarizedExperiment\")"
   ]
  },
  {
   "cell_type": "markdown",
   "metadata": {},
   "source": [
    "### Libraries"
   ]
  },
  {
   "cell_type": "code",
   "execution_count": null,
   "metadata": {},
   "outputs": [],
   "source": [
    "library(WGCNA)\n",
    "library(SummarizedExperiment)"
   ]
  },
  {
   "cell_type": "markdown",
   "metadata": {},
   "source": [
    "### Data Packaging\n",
    "To begin the data analysis, we will first download and extract gene expression data from the BrainSpan Atlas"
   ]
  },
  {
   "cell_type": "code",
   "execution_count": null,
   "metadata": {},
   "outputs": [],
   "source": []
  }
 ],
 "metadata": {
  "kernelspec": {
   "display_name": "R",
   "language": "R",
   "name": "ir"
  },
  "language_info": {
   "codemirror_mode": "r",
   "file_extension": ".r",
   "mimetype": "text/x-r-source",
   "name": "R",
   "pygments_lexer": "r",
   "version": "3.3.2"
  }
 },
 "nbformat": 4,
 "nbformat_minor": 2
}
