{
 "cells": [
  {
   "cell_type": "markdown",
   "metadata": {},
   "source": [
    "# Identifying Gene Co-Expression Modules in the Developing Human Brain\n",
    "    \n",
    "**Course**: MED263, \"Bioinformatics Applications to Human Disease\"  \n",
    "**Preparer**: Kevin Chau (kkchau@ucsd.edu) (https://github.com/kkchau/MED263)\n",
    "\n",
    "# Introduction\n",
    "Gene co-expression networks are highly informative in the context of biological processes as well as identifying risk genes through a guilty-by-association framework. These co-expression networks are constructed such that nodes represent the elements of interest, the genes, and edges represent correlations between the expression patterns of those genes. A straighforward approach to the construction of these gene co-expression networks would consist of calculating pairwise correlations, e.g. Pearson correlations, and applying a hard threshold such that edges only exists between nodes that have a correlation that surpasses the threshold. However, this approach comes with the caveat of lost information. For example, if two genes exhibit a correlation very close to, but not meeting, an established threshold, that potential edge is lost.   \n",
    "In this practical, we will be using R, specifically the Weighted Gene Co-Expression Network Analysis (WGCNA) package, to identify and characterize gene co-expression modules from human brain developmental transcriptome expression data. We will be using publicly available gene expression data from the BrianSpan Atlas, creating the networks with WGCNA in R, and characterizing these modules with ENRICHR."
   ]
  },
  {
   "cell_type": "markdown",
   "metadata": {},
   "source": [
    "## Set-Up\n",
    "We will be using WGCNA for the actual network construction; data will be organized into \"Summarized Experiment\" objects for ease of use. \n",
    "All of the following packages should already be installed if running from the corresponding Docker container"
   ]
  },
  {
   "cell_type": "code",
   "execution_count": 3,
   "metadata": {},
   "outputs": [],
   "source": [
    "# install.packages(c(\"matrixStats\", \"Hmisc\", \"splines\", \"foreach\", \"doParallel\", \"fastcluster\", \"dynamicTreeCut\", \"survival\"))"
   ]
  },
  {
   "cell_type": "code",
   "execution_count": 4,
   "metadata": {},
   "outputs": [],
   "source": [
    "# source(\"https://bioconductor.org/biocLite.R\")"
   ]
  },
  {
   "cell_type": "code",
   "execution_count": 5,
   "metadata": {},
   "outputs": [],
   "source": [
    "# biocLite(\"WGCNA\")\n",
    "# biocLite(\"SummarizedExperiment\")"
   ]
  },
  {
   "cell_type": "markdown",
   "metadata": {},
   "source": [
    "### Libraries"
   ]
  },
  {
   "cell_type": "code",
   "execution_count": 6,
   "metadata": {},
   "outputs": [
    {
     "name": "stderr",
     "output_type": "stream",
     "text": [
      "Loading required package: dynamicTreeCut\n",
      "Loading required package: fastcluster\n",
      "\n",
      "Attaching package: ‘fastcluster’\n",
      "\n",
      "The following object is masked from ‘package:stats’:\n",
      "\n",
      "    hclust\n",
      "\n",
      "\n"
     ]
    },
    {
     "name": "stdout",
     "output_type": "stream",
     "text": [
      "==========================================================================\n",
      "*\n",
      "*  Package WGCNA 1.62 loaded.\n",
      "*\n",
      "*    Important note: It appears that your system supports multi-threading,\n",
      "*    but it is not enabled within WGCNA in R. \n",
      "*    To allow multi-threading within WGCNA with all available cores, use \n",
      "*\n",
      "*          allowWGCNAThreads()\n",
      "*\n",
      "*    within R. Use disableWGCNAThreads() to disable threading if necessary.\n",
      "*    Alternatively, set the following environment variable on your system:\n",
      "*\n",
      "*          ALLOW_WGCNA_THREADS=<number_of_processors>\n",
      "*\n",
      "*    for example \n",
      "*\n",
      "*          ALLOW_WGCNA_THREADS=2\n",
      "*\n",
      "*    To set the environment variable in linux bash shell, type \n",
      "*\n",
      "*           export ALLOW_WGCNA_THREADS=2\n",
      "*\n",
      "*     before running R. Other operating systems or shells will\n",
      "*     have a similar command to achieve the same aim.\n",
      "*\n",
      "==========================================================================\n",
      "\n",
      "\n"
     ]
    },
    {
     "name": "stderr",
     "output_type": "stream",
     "text": [
      "\n",
      "Attaching package: ‘WGCNA’\n",
      "\n",
      "The following object is masked from ‘package:stats’:\n",
      "\n",
      "    cor\n",
      "\n",
      "Loading required package: GenomicRanges\n",
      "Loading required package: stats4\n",
      "Loading required package: BiocGenerics\n",
      "Loading required package: parallel\n",
      "\n",
      "Attaching package: ‘BiocGenerics’\n",
      "\n",
      "The following objects are masked from ‘package:parallel’:\n",
      "\n",
      "    clusterApply, clusterApplyLB, clusterCall, clusterEvalQ,\n",
      "    clusterExport, clusterMap, parApply, parCapply, parLapply,\n",
      "    parLapplyLB, parRapply, parSapply, parSapplyLB\n",
      "\n",
      "The following objects are masked from ‘package:stats’:\n",
      "\n",
      "    IQR, mad, sd, var, xtabs\n",
      "\n",
      "The following objects are masked from ‘package:base’:\n",
      "\n",
      "    anyDuplicated, append, as.data.frame, cbind, colMeans, colnames,\n",
      "    colSums, do.call, duplicated, eval, evalq, Filter, Find, get, grep,\n",
      "    grepl, intersect, is.unsorted, lapply, lengths, Map, mapply, match,\n",
      "    mget, order, paste, pmax, pmax.int, pmin, pmin.int, Position, rank,\n",
      "    rbind, Reduce, rowMeans, rownames, rowSums, sapply, setdiff, sort,\n",
      "    table, tapply, union, unique, unsplit, which, which.max, which.min\n",
      "\n",
      "Loading required package: S4Vectors\n",
      "\n",
      "Attaching package: ‘S4Vectors’\n",
      "\n",
      "The following object is masked from ‘package:base’:\n",
      "\n",
      "    expand.grid\n",
      "\n",
      "Loading required package: IRanges\n",
      "Loading required package: GenomeInfoDb\n",
      "Loading required package: Biobase\n",
      "Welcome to Bioconductor\n",
      "\n",
      "    Vignettes contain introductory material; view with\n",
      "    'browseVignettes()'. To cite Bioconductor, see\n",
      "    'citation(\"Biobase\")', and for packages 'citation(\"pkgname\")'.\n",
      "\n",
      "Loading required package: DelayedArray\n",
      "Loading required package: matrixStats\n",
      "\n",
      "Attaching package: ‘matrixStats’\n",
      "\n",
      "The following objects are masked from ‘package:Biobase’:\n",
      "\n",
      "    anyMissing, rowMedians\n",
      "\n",
      "\n",
      "Attaching package: ‘DelayedArray’\n",
      "\n",
      "The following objects are masked from ‘package:matrixStats’:\n",
      "\n",
      "    colMaxs, colMins, colRanges, rowMaxs, rowMins, rowRanges\n",
      "\n",
      "The following object is masked from ‘package:base’:\n",
      "\n",
      "    apply\n",
      "\n"
     ]
    }
   ],
   "source": [
    "library(WGCNA)\n",
    "library(SummarizedExperiment)"
   ]
  },
  {
   "cell_type": "code",
   "execution_count": 7,
   "metadata": {},
   "outputs": [],
   "source": [
    "### Optional:\n",
    "# Enable parallel processing for computationally intensive tasks (soft thresholding, topological overlap, etc.)\n",
    "# Go to your Docker settings (Settings -> Advanced) and check how many CPUs you would like to dedicate to the process\n",
    "# Then, uncomment and run the following lines\n",
    "# library(doParallel)\n",
    "# enableWGCNAThreads()"
   ]
  },
  {
   "cell_type": "markdown",
   "metadata": {},
   "source": [
    "# Data"
   ]
  },
  {
   "cell_type": "markdown",
   "metadata": {},
   "source": [
    "## Initial Data Structuring\n",
    "To begin the data analysis, we will first download and extract gene expression data from the BrainSpan Atlas"
   ]
  },
  {
   "cell_type": "code",
   "execution_count": 8,
   "metadata": {},
   "outputs": [],
   "source": [
    "#url <- \"http://www.brainspan.org/api/v2/well_known_file_download/267666525\"\n",
    "#utils::download.file(url, destfile=\"brainSpan.zip\", mode='wb')\n",
    "#utils::unzip(\"brainSpan.zip\", exdir=\"brainSpan\")\n",
    "#file.remove(\"brainSpan.zip\")"
   ]
  },
  {
   "cell_type": "markdown",
   "metadata": {},
   "source": [
    "The downloaded files consist of a RPKM expression matrix, sample metadata, and row metadata, along with a readme file."
   ]
  },
  {
   "cell_type": "markdown",
   "metadata": {},
   "source": [
    "### Question 1.\n",
    "How were expressions determined (what tools were used for alignment, quantification) and what was the reference?\n",
    "### Answer\n",
    "Read alignment was performed with Tophat using Gencode v10 annotations; quantification was done with SAMtools and RSEQtools (this can be found in the whitepaper from https://brainspan.org)"
   ]
  },
  {
   "cell_type": "markdown",
   "metadata": {},
   "source": [
    "Next, we want to package the relevant data and metadata together into a single SummarizedExperiment. This is done to protect the integrity of the data and safeguard value mappings, yielding a nice reference in case any downstream analysis goes wrong."
   ]
  },
  {
   "cell_type": "code",
   "execution_count": 9,
   "metadata": {},
   "outputs": [
    {
     "data": {
      "text/html": [
       "<table>\n",
       "<thead><tr><th scope=col>V2</th><th scope=col>V3</th><th scope=col>V4</th><th scope=col>V5</th><th scope=col>V6</th><th scope=col>V7</th><th scope=col>V8</th><th scope=col>V9</th><th scope=col>V10</th><th scope=col>V11</th><th scope=col>⋯</th><th scope=col>V516</th><th scope=col>V517</th><th scope=col>V518</th><th scope=col>V519</th><th scope=col>V520</th><th scope=col>V521</th><th scope=col>V522</th><th scope=col>V523</th><th scope=col>V524</th><th scope=col>V525</th></tr></thead>\n",
       "<tbody>\n",
       "\t<tr><td>36.447128</td><td>24.251253</td><td>19.330479</td><td>27.668607</td><td>19.998231</td><td>14.680673</td><td>27.548101</td><td>16.580183</td><td>44.587799</td><td>44.943915</td><td>⋯        </td><td> 2.320932</td><td> 1.781548</td><td> 2.277359</td><td> 1.832737</td><td> 1.555696</td><td> 2.081944</td><td> 3.484685</td><td> 4.816781</td><td> 3.034464</td><td> 3.082820</td></tr>\n",
       "\t<tr><td> 0.044081</td><td> 0.067338</td><td> 0.000000</td><td> 0.145466</td><td> 0.185188</td><td> 0.311180</td><td> 0.000000</td><td> 0.000000</td><td> 0.473831</td><td> 0.181220</td><td>⋯        </td><td> 0.758571</td><td> 0.000000</td><td> 0.061869</td><td> 0.026876</td><td> 0.100691</td><td> 0.140675</td><td> 0.300576</td><td> 0.126526</td><td> 0.000000</td><td> 0.424134</td></tr>\n",
       "\t<tr><td>34.373239</td><td>20.765661</td><td>18.734947</td><td>22.366394</td><td>19.228431</td><td>11.020365</td><td>25.394607</td><td>17.671327</td><td>32.903100</td><td>38.157569</td><td>⋯        </td><td>23.769167</td><td>20.142132</td><td>20.063257</td><td>16.575379</td><td>18.783516</td><td>21.631293</td><td>28.006120</td><td>28.731717</td><td>16.679597</td><td>28.866042</td></tr>\n",
       "\t<tr><td> 4.379337</td><td> 4.227521</td><td> 2.551825</td><td> 3.603764</td><td> 2.948976</td><td> 2.405183</td><td> 3.613642</td><td> 2.573935</td><td> 3.483817</td><td> 3.609830</td><td>⋯        </td><td> 1.593009</td><td> 1.563377</td><td> 1.648571</td><td> 2.231466</td><td> 2.040326</td><td> 2.161741</td><td> 1.275352</td><td> 1.184766</td><td> 1.735579</td><td> 1.500363</td></tr>\n",
       "\t<tr><td> 3.957119</td><td> 3.520794</td><td> 2.037805</td><td> 3.487035</td><td> 2.177235</td><td> 0.999693</td><td> 3.481555</td><td> 1.747568</td><td> 3.741580</td><td> 3.560650</td><td>⋯        </td><td> 0.583488</td><td> 0.797376</td><td> 0.607141</td><td> 0.575555</td><td> 0.606445</td><td> 0.683625</td><td> 0.495084</td><td> 0.761265</td><td> 0.766482</td><td> 0.468859</td></tr>\n",
       "\t<tr><td> 0.244174</td><td> 0.266976</td><td> 0.248188</td><td> 0.141398</td><td> 0.467688</td><td> 0.296493</td><td> 0.079941</td><td> 0.149822</td><td> 0.204210</td><td> 0.260205</td><td>⋯        </td><td> 1.319251</td><td> 2.062175</td><td> 1.168233</td><td> 0.681609</td><td> 0.490367</td><td> 0.407953</td><td> 1.568014</td><td> 1.260039</td><td> 1.736395</td><td> 1.632879</td></tr>\n",
       "</tbody>\n",
       "</table>\n"
      ],
      "text/latex": [
       "\\begin{tabular}{r|llllllllllllllllllllllllllllllllllllllllllllllllllllllllllllllllllllllllllllllllllllllllllllllllllllllllllllllllllllllllllllllllllllllllllllllllllllllllllllllllllllllllllllllllllllllllllllllllllllllllllllllllllllllllllllllllllllllllllllllllllllllllllllllllllllllllllllllllllllllllllllllllllllllllllllllllllllllllllllllllllllllllllllllllllllllllllllllllllllllllllllllllllllllllllllllllllllllllllllllllllllllllllllllllllllllllllllllllllllllllllllllllllllllllllllllllllllllllllllllllllllllllllllllllllllllllllllllllllllllllllll}\n",
       " V2 & V3 & V4 & V5 & V6 & V7 & V8 & V9 & V10 & V11 & ⋯ & V516 & V517 & V518 & V519 & V520 & V521 & V522 & V523 & V524 & V525\\\\\n",
       "\\hline\n",
       "\t 36.447128 & 24.251253 & 19.330479 & 27.668607 & 19.998231 & 14.680673 & 27.548101 & 16.580183 & 44.587799 & 44.943915 & ⋯         &  2.320932 &  1.781548 &  2.277359 &  1.832737 &  1.555696 &  2.081944 &  3.484685 &  4.816781 &  3.034464 &  3.082820\\\\\n",
       "\t  0.044081 &  0.067338 &  0.000000 &  0.145466 &  0.185188 &  0.311180 &  0.000000 &  0.000000 &  0.473831 &  0.181220 & ⋯         &  0.758571 &  0.000000 &  0.061869 &  0.026876 &  0.100691 &  0.140675 &  0.300576 &  0.126526 &  0.000000 &  0.424134\\\\\n",
       "\t 34.373239 & 20.765661 & 18.734947 & 22.366394 & 19.228431 & 11.020365 & 25.394607 & 17.671327 & 32.903100 & 38.157569 & ⋯         & 23.769167 & 20.142132 & 20.063257 & 16.575379 & 18.783516 & 21.631293 & 28.006120 & 28.731717 & 16.679597 & 28.866042\\\\\n",
       "\t  4.379337 &  4.227521 &  2.551825 &  3.603764 &  2.948976 &  2.405183 &  3.613642 &  2.573935 &  3.483817 &  3.609830 & ⋯         &  1.593009 &  1.563377 &  1.648571 &  2.231466 &  2.040326 &  2.161741 &  1.275352 &  1.184766 &  1.735579 &  1.500363\\\\\n",
       "\t  3.957119 &  3.520794 &  2.037805 &  3.487035 &  2.177235 &  0.999693 &  3.481555 &  1.747568 &  3.741580 &  3.560650 & ⋯         &  0.583488 &  0.797376 &  0.607141 &  0.575555 &  0.606445 &  0.683625 &  0.495084 &  0.761265 &  0.766482 &  0.468859\\\\\n",
       "\t  0.244174 &  0.266976 &  0.248188 &  0.141398 &  0.467688 &  0.296493 &  0.079941 &  0.149822 &  0.204210 &  0.260205 & ⋯         &  1.319251 &  2.062175 &  1.168233 &  0.681609 &  0.490367 &  0.407953 &  1.568014 &  1.260039 &  1.736395 &  1.632879\\\\\n",
       "\\end{tabular}\n"
      ],
      "text/markdown": [
       "\n",
       "V2 | V3 | V4 | V5 | V6 | V7 | V8 | V9 | V10 | V11 | ⋯ | V516 | V517 | V518 | V519 | V520 | V521 | V522 | V523 | V524 | V525 | \n",
       "|---|---|---|---|---|---|\n",
       "| 36.447128 | 24.251253 | 19.330479 | 27.668607 | 19.998231 | 14.680673 | 27.548101 | 16.580183 | 44.587799 | 44.943915 | ⋯         |  2.320932 |  1.781548 |  2.277359 |  1.832737 |  1.555696 |  2.081944 |  3.484685 |  4.816781 |  3.034464 |  3.082820 | \n",
       "|  0.044081 |  0.067338 |  0.000000 |  0.145466 |  0.185188 |  0.311180 |  0.000000 |  0.000000 |  0.473831 |  0.181220 | ⋯         |  0.758571 |  0.000000 |  0.061869 |  0.026876 |  0.100691 |  0.140675 |  0.300576 |  0.126526 |  0.000000 |  0.424134 | \n",
       "| 34.373239 | 20.765661 | 18.734947 | 22.366394 | 19.228431 | 11.020365 | 25.394607 | 17.671327 | 32.903100 | 38.157569 | ⋯         | 23.769167 | 20.142132 | 20.063257 | 16.575379 | 18.783516 | 21.631293 | 28.006120 | 28.731717 | 16.679597 | 28.866042 | \n",
       "|  4.379337 |  4.227521 |  2.551825 |  3.603764 |  2.948976 |  2.405183 |  3.613642 |  2.573935 |  3.483817 |  3.609830 | ⋯         |  1.593009 |  1.563377 |  1.648571 |  2.231466 |  2.040326 |  2.161741 |  1.275352 |  1.184766 |  1.735579 |  1.500363 | \n",
       "|  3.957119 |  3.520794 |  2.037805 |  3.487035 |  2.177235 |  0.999693 |  3.481555 |  1.747568 |  3.741580 |  3.560650 | ⋯         |  0.583488 |  0.797376 |  0.607141 |  0.575555 |  0.606445 |  0.683625 |  0.495084 |  0.761265 |  0.766482 |  0.468859 | \n",
       "|  0.244174 |  0.266976 |  0.248188 |  0.141398 |  0.467688 |  0.296493 |  0.079941 |  0.149822 |  0.204210 |  0.260205 | ⋯         |  1.319251 |  2.062175 |  1.168233 |  0.681609 |  0.490367 |  0.407953 |  1.568014 |  1.260039 |  1.736395 |  1.632879 | \n",
       "\n",
       "\n"
      ],
      "text/plain": [
       "  V2        V3        V4        V5        V6        V7        V8       \n",
       "1 36.447128 24.251253 19.330479 27.668607 19.998231 14.680673 27.548101\n",
       "2  0.044081  0.067338  0.000000  0.145466  0.185188  0.311180  0.000000\n",
       "3 34.373239 20.765661 18.734947 22.366394 19.228431 11.020365 25.394607\n",
       "4  4.379337  4.227521  2.551825  3.603764  2.948976  2.405183  3.613642\n",
       "5  3.957119  3.520794  2.037805  3.487035  2.177235  0.999693  3.481555\n",
       "6  0.244174  0.266976  0.248188  0.141398  0.467688  0.296493  0.079941\n",
       "  V9        V10       V11       ⋯ V516      V517      V518      V519     \n",
       "1 16.580183 44.587799 44.943915 ⋯  2.320932  1.781548  2.277359  1.832737\n",
       "2  0.000000  0.473831  0.181220 ⋯  0.758571  0.000000  0.061869  0.026876\n",
       "3 17.671327 32.903100 38.157569 ⋯ 23.769167 20.142132 20.063257 16.575379\n",
       "4  2.573935  3.483817  3.609830 ⋯  1.593009  1.563377  1.648571  2.231466\n",
       "5  1.747568  3.741580  3.560650 ⋯  0.583488  0.797376  0.607141  0.575555\n",
       "6  0.149822  0.204210  0.260205 ⋯  1.319251  2.062175  1.168233  0.681609\n",
       "  V520      V521      V522      V523      V524      V525     \n",
       "1  1.555696  2.081944  3.484685  4.816781  3.034464  3.082820\n",
       "2  0.100691  0.140675  0.300576  0.126526  0.000000  0.424134\n",
       "3 18.783516 21.631293 28.006120 28.731717 16.679597 28.866042\n",
       "4  2.040326  2.161741  1.275352  1.184766  1.735579  1.500363\n",
       "5  0.606445  0.683625  0.495084  0.761265  0.766482  0.468859\n",
       "6  0.490367  0.407953  1.568014  1.260039  1.736395  1.632879"
      ]
     },
     "metadata": {},
     "output_type": "display_data"
    },
    {
     "data": {
      "text/html": [
       "<table>\n",
       "<thead><tr><th scope=col>donor_id</th><th scope=col>donor_name</th><th scope=col>age</th><th scope=col>gender</th><th scope=col>structure_id</th><th scope=col>structure_acronym</th><th scope=col>structure_name</th></tr></thead>\n",
       "<tbody>\n",
       "\t<tr><td>13058                                                 </td><td>H376.IIA.51                                           </td><td>8 pcw                                                 </td><td>M                                                     </td><td>10268                                                 </td><td>Ocx                                                   </td><td>occipital neocortex                                   </td></tr>\n",
       "\t<tr><td>13058                                                 </td><td>H376.IIA.51                                           </td><td>8 pcw                                                 </td><td>M                                                     </td><td>10291                                                 </td><td>M1C-S1C                                               </td><td>primary motor-sensory cortex (samples)                </td></tr>\n",
       "\t<tr><td>13058                                                 </td><td>H376.IIA.51                                           </td><td>8 pcw                                                 </td><td>M                                                     </td><td>10361                                                 </td><td>AMY                                                   </td><td>amygdaloid complex                                    </td></tr>\n",
       "\t<tr><td>13058                                                 </td><td>H376.IIA.51                                           </td><td>8 pcw                                                 </td><td>M                                                     </td><td>10550                                                 </td><td>MGE                                                   </td><td>medial ganglionic eminence                            </td></tr>\n",
       "\t<tr><td>13058                                                 </td><td>H376.IIA.51                                           </td><td>8 pcw                                                 </td><td>M                                                     </td><td>10243                                                 </td><td>STC                                                   </td><td>posterior (caudal) superior temporal cortex (area 22c)</td></tr>\n",
       "\t<tr><td>13058                                                 </td><td>H376.IIA.51                                           </td><td>8 pcw                                                 </td><td>M                                                     </td><td>10665                                                 </td><td>URL                                                   </td><td>upper (rostral) rhombic lip                           </td></tr>\n",
       "</tbody>\n",
       "</table>\n"
      ],
      "text/latex": [
       "\\begin{tabular}{r|lllllll}\n",
       " donor\\_id & donor\\_name & age & gender & structure\\_id & structure\\_acronym & structure\\_name\\\\\n",
       "\\hline\n",
       "\t 13058                                                  & H376.IIA.51                                            & 8 pcw                                                  & M                                                      & 10268                                                  & Ocx                                                    & occipital neocortex                                   \\\\\n",
       "\t 13058                                                  & H376.IIA.51                                            & 8 pcw                                                  & M                                                      & 10291                                                  & M1C-S1C                                                & primary motor-sensory cortex (samples)                \\\\\n",
       "\t 13058                                                  & H376.IIA.51                                            & 8 pcw                                                  & M                                                      & 10361                                                  & AMY                                                    & amygdaloid complex                                    \\\\\n",
       "\t 13058                                                  & H376.IIA.51                                            & 8 pcw                                                  & M                                                      & 10550                                                  & MGE                                                    & medial ganglionic eminence                            \\\\\n",
       "\t 13058                                                  & H376.IIA.51                                            & 8 pcw                                                  & M                                                      & 10243                                                  & STC                                                    & posterior (caudal) superior temporal cortex (area 22c)\\\\\n",
       "\t 13058                                                  & H376.IIA.51                                            & 8 pcw                                                  & M                                                      & 10665                                                  & URL                                                    & upper (rostral) rhombic lip                           \\\\\n",
       "\\end{tabular}\n"
      ],
      "text/markdown": [
       "\n",
       "donor_id | donor_name | age | gender | structure_id | structure_acronym | structure_name | \n",
       "|---|---|---|---|---|---|\n",
       "| 13058                                                  | H376.IIA.51                                            | 8 pcw                                                  | M                                                      | 10268                                                  | Ocx                                                    | occipital neocortex                                    | \n",
       "| 13058                                                  | H376.IIA.51                                            | 8 pcw                                                  | M                                                      | 10291                                                  | M1C-S1C                                                | primary motor-sensory cortex (samples)                 | \n",
       "| 13058                                                  | H376.IIA.51                                            | 8 pcw                                                  | M                                                      | 10361                                                  | AMY                                                    | amygdaloid complex                                     | \n",
       "| 13058                                                  | H376.IIA.51                                            | 8 pcw                                                  | M                                                      | 10550                                                  | MGE                                                    | medial ganglionic eminence                             | \n",
       "| 13058                                                  | H376.IIA.51                                            | 8 pcw                                                  | M                                                      | 10243                                                  | STC                                                    | posterior (caudal) superior temporal cortex (area 22c) | \n",
       "| 13058                                                  | H376.IIA.51                                            | 8 pcw                                                  | M                                                      | 10665                                                  | URL                                                    | upper (rostral) rhombic lip                            | \n",
       "\n",
       "\n"
      ],
      "text/plain": [
       "  donor_id donor_name  age   gender structure_id structure_acronym\n",
       "1 13058    H376.IIA.51 8 pcw M      10268        Ocx              \n",
       "2 13058    H376.IIA.51 8 pcw M      10291        M1C-S1C          \n",
       "3 13058    H376.IIA.51 8 pcw M      10361        AMY              \n",
       "4 13058    H376.IIA.51 8 pcw M      10550        MGE              \n",
       "5 13058    H376.IIA.51 8 pcw M      10243        STC              \n",
       "6 13058    H376.IIA.51 8 pcw M      10665        URL              \n",
       "  structure_name                                        \n",
       "1 occipital neocortex                                   \n",
       "2 primary motor-sensory cortex (samples)                \n",
       "3 amygdaloid complex                                    \n",
       "4 medial ganglionic eminence                            \n",
       "5 posterior (caudal) superior temporal cortex (area 22c)\n",
       "6 upper (rostral) rhombic lip                           "
      ]
     },
     "metadata": {},
     "output_type": "display_data"
    },
    {
     "data": {
      "text/html": [
       "<table>\n",
       "<thead><tr><th scope=col>gene_id</th><th scope=col>ensembl_gene_id</th><th scope=col>gene_symbol</th><th scope=col>entrez_id</th></tr></thead>\n",
       "<tbody>\n",
       "\t<tr><td> 7062          </td><td>ENSG00000000003</td><td>TSPAN6         </td><td> 7105          </td></tr>\n",
       "\t<tr><td>40735          </td><td>ENSG00000000005</td><td>TNMD           </td><td>64102          </td></tr>\n",
       "\t<tr><td> 8736          </td><td>ENSG00000000419</td><td>DPM1           </td><td> 8813          </td></tr>\n",
       "\t<tr><td>36423          </td><td>ENSG00000000457</td><td>SCYL3          </td><td>57147          </td></tr>\n",
       "\t<tr><td>35021          </td><td>ENSG00000000460</td><td>C1orf112       </td><td>55732          </td></tr>\n",
       "\t<tr><td> 2253          </td><td>ENSG00000000938</td><td>FGR            </td><td> 2268          </td></tr>\n",
       "</tbody>\n",
       "</table>\n"
      ],
      "text/latex": [
       "\\begin{tabular}{r|llll}\n",
       " gene\\_id & ensembl\\_gene\\_id & gene\\_symbol & entrez\\_id\\\\\n",
       "\\hline\n",
       "\t  7062           & ENSG00000000003 & TSPAN6          &  7105          \\\\\n",
       "\t 40735           & ENSG00000000005 & TNMD            & 64102          \\\\\n",
       "\t  8736           & ENSG00000000419 & DPM1            &  8813          \\\\\n",
       "\t 36423           & ENSG00000000457 & SCYL3           & 57147          \\\\\n",
       "\t 35021           & ENSG00000000460 & C1orf112        & 55732          \\\\\n",
       "\t  2253           & ENSG00000000938 & FGR             &  2268          \\\\\n",
       "\\end{tabular}\n"
      ],
      "text/markdown": [
       "\n",
       "gene_id | ensembl_gene_id | gene_symbol | entrez_id | \n",
       "|---|---|---|---|---|---|\n",
       "|  7062           | ENSG00000000003 | TSPAN6          |  7105           | \n",
       "| 40735           | ENSG00000000005 | TNMD            | 64102           | \n",
       "|  8736           | ENSG00000000419 | DPM1            |  8813           | \n",
       "| 36423           | ENSG00000000457 | SCYL3           | 57147           | \n",
       "| 35021           | ENSG00000000460 | C1orf112        | 55732           | \n",
       "|  2253           | ENSG00000000938 | FGR             |  2268           | \n",
       "\n",
       "\n"
      ],
      "text/plain": [
       "  gene_id ensembl_gene_id gene_symbol entrez_id\n",
       "1  7062   ENSG00000000003 TSPAN6       7105    \n",
       "2 40735   ENSG00000000005 TNMD        64102    \n",
       "3  8736   ENSG00000000419 DPM1         8813    \n",
       "4 36423   ENSG00000000457 SCYL3       57147    \n",
       "5 35021   ENSG00000000460 C1orf112    55732    \n",
       "6  2253   ENSG00000000938 FGR          2268    "
      ]
     },
     "metadata": {},
     "output_type": "display_data"
    }
   ],
   "source": [
    "expr <- read.csv(\"brainSpan/expression_matrix.csv\", header=FALSE)[, -1]\n",
    "coldata <- read.csv(\"brainSpan/columns_metadata.csv\")[, -1]\n",
    "rowdata <- read.csv(\"brainSpan/rows_metadata.csv\")[, -1]\n",
    "head(expr)\n",
    "head(coldata)\n",
    "head(rowdata)"
   ]
  },
  {
   "cell_type": "code",
   "execution_count": 10,
   "metadata": {},
   "outputs": [
    {
     "data": {
      "text/plain": [
       "class: SummarizedExperiment \n",
       "dim: 52376 524 \n",
       "metadata(0):\n",
       "assays(1): rpkm\n",
       "rownames(52376): ENSG00000000003 ENSG00000000005 ... ENSGR0000248421\n",
       "  ENSGR0000249358\n",
       "rowData names(4): gene_id ensembl_gene_id gene_symbol entrez_id\n",
       "colnames(524): H376.IIA.51.Ocx H376.IIA.51.M1C-S1C ... H376.XI.56.STR\n",
       "  H376.XI.56.S1C\n",
       "colData names(7): donor_id donor_name ... structure_acronym\n",
       "  structure_name"
      ]
     },
     "metadata": {},
     "output_type": "display_data"
    }
   ],
   "source": [
    "row.names(expr) <- rowdata$ensembl_gene_id\n",
    "colnames(expr) <- as.character(apply(coldata, 1, FUN=function(x) paste(x[[\"donor_name\"]], x[[\"structure_acronym\"]], sep=\".\")))\n",
    "se.expr <- SummarizedExperiment(assays=list(rpkm=as.matrix(expr)), rowData=rowdata, colData=coldata)\n",
    "se.expr"
   ]
  },
  {
   "cell_type": "markdown",
   "metadata": {},
   "source": [
    "The se.expr SummarizedExperiment object is essentially a collection of matrices linked by the appropriate mappings; that is, the columns of the assays (in this case, the rpkm assay) correspond to the \"colnames\" of the SummarizedExperiment, which in turn have the attributes listed in the \"colData\" field. The same concept applies to the rownames and rowData."
   ]
  },
  {
   "cell_type": "markdown",
   "metadata": {},
   "source": [
    "# Methods and Results"
   ]
  },
  {
   "cell_type": "markdown",
   "metadata": {},
   "source": [
    "## Data filtering "
   ]
  },
  {
   "cell_type": "markdown",
   "metadata": {},
   "source": [
    "### Expression filtering\n",
    "Now, we will filter this expression data for lowly expressed genes since these features are likely representative of noise in the dataset. Additionally, this will reduce the size of the data and make it more managable for the more computationally intensive steps to follow. We first plot the density plot of the expression distribution to identify a suitable cutoff value. "
   ]
  },
  {
   "cell_type": "code",
   "execution_count": 11,
   "metadata": {},
   "outputs": [
    {
     "data": {
      "image/png": "[encoded data removed]",
      "text/plain": [
       "Plot with title “Histogram of assays(se.expr)$rpkm”"
      ]
     },
     "metadata": {},
     "output_type": "display_data"
    }
   ],
   "source": [
    "hist(assays(se.expr)$rpkm, xlim=c(0, 10), breaks=100000)"
   ]
  },
  {
   "cell_type": "markdown",
   "metadata": {},
   "source": [
    "Given this plot we select an expression cutoff of 5 RPKM in at moste 90% of samples (this is a very strict threshold, but it is necessary to reduce the data to a manageable size for the default Docker memory settings)."
   ]
  },
  {
   "cell_type": "code",
   "execution_count": 12,
   "metadata": {},
   "outputs": [],
   "source": [
    "se.expr.filt <- se.expr[apply(assays(se.expr)$rpkm <= 5, 1, sum) <= 0.9*ncol(se.expr),]"
   ]
  },
  {
   "cell_type": "code",
   "execution_count": 13,
   "metadata": {},
   "outputs": [
    {
     "data": {
      "text/html": [
       "<ol class=list-inline>\n",
       "\t<li>12711</li>\n",
       "\t<li>524</li>\n",
       "</ol>\n"
      ],
      "text/latex": [
       "\\begin{enumerate*}\n",
       "\\item 12711\n",
       "\\item 524\n",
       "\\end{enumerate*}\n"
      ],
      "text/markdown": [
       "1. 12711\n",
       "2. 524\n",
       "\n",
       "\n"
      ],
      "text/plain": [
       "[1] 12711   524"
      ]
     },
     "metadata": {},
     "output_type": "display_data"
    },
    {
     "data": {
      "text/plain": [
       "7325240 bytes"
      ]
     },
     "metadata": {},
     "output_type": "display_data"
    }
   ],
   "source": [
    "dim(se.expr.filt)\n",
    "object.size(se.expr.filt)"
   ]
  },
  {
   "cell_type": "markdown",
   "metadata": {},
   "source": [
    "### Sample clustering\n",
    "We will now perform sample-wise clustering to identify any outlier samples, reducing the noise in the dataset as well as its size.  \n",
    "NOTE: This will take a significant amount of time if not using parallel processing"
   ]
  },
  {
   "cell_type": "code",
   "execution_count": null,
   "metadata": {},
   "outputs": [],
   "source": [
    "sampleClust <- hclust(dist(assays(se.expr)$rpkm), method='average')"
   ]
  },
  {
   "cell_type": "markdown",
   "metadata": {},
   "source": [
    "### Question 2\n",
    "Which five genes have the highest overall (average across samples) expression?"
   ]
  },
  {
   "cell_type": "markdown",
   "metadata": {},
   "source": [
    "### Answer"
   ]
  },
  {
   "cell_type": "markdown",
   "metadata": {},
   "source": [
    "## Soft Thresholding\n",
    "A stipulation of WGCNA network construction is that the data should satisfy the scale-free topology criteria. Scale-free networks are networks whose degree distributions (the number of neighbors per node) follows a power function, such that there are few nodes with a large number of neighbors whereas the rest of the nodes have few neighbors. This gives rise to \"network hubs,\" and biologically this implies that there are fewer \"vulnerable\" genes such that their disruption results in the shutting down of a pathway, for example.  \n",
    "This step consists of testing this topology on our data for different integer power levels. We want to select a power level that sufficiently satisfies the scale-free topology while still preserving connectivity.  \n",
    "NOTE: This will take a while to run. If possible, enable parallel processing with enableWGCNAThreads()."
   ]
  },
  {
   "cell_type": "code",
   "execution_count": null,
   "metadata": {},
   "outputs": [
    {
     "name": "stdout",
     "output_type": "stream",
     "text": [
      "pickSoftThreshold: will use block size 3519.\n",
      " pickSoftThreshold: calculating connectivity for given powers...\n",
      "   ..working on genes 1 through 3519 of 12711\n"
     ]
    },
    {
     "name": "stderr",
     "output_type": "stream",
     "text": [
      "Warning message:\n",
      "“executing %dopar% sequentially: no parallel backend registered”"
     ]
    }
   ],
   "source": [
    "pwr <- c(seq(1, 15), seq(16, 24, by=2))\n",
    "in.expr <- t(assays(se.expr.filt)$rpkm)\n",
    "soft.thresh <- pickSoftThreshold(in.expr, powerVector=pwr, networkType=\"signed\", verbose=5)"
   ]
  },
  {
   "cell_type": "code",
   "execution_count": 1,
   "metadata": {},
   "outputs": [
    {
     "data": {
      "text/plain": [
       "R version 3.4.3 (2017-11-30)\n",
       "Platform: x86_64-pc-linux-gnu (64-bit)\n",
       "Running under: Debian GNU/Linux buster/sid\n",
       "\n",
       "Matrix products: default\n",
       "BLAS: /usr/lib/x86_64-linux-gnu/blas/libblas.so.3.7.1\n",
       "LAPACK: /usr/lib/x86_64-linux-gnu/lapack/liblapack.so.3.7.1\n",
       "\n",
       "locale:\n",
       " [1] LC_CTYPE=en_US.UTF-8       LC_NUMERIC=C              \n",
       " [3] LC_TIME=en_US.UTF-8        LC_COLLATE=en_US.UTF-8    \n",
       " [5] LC_MONETARY=en_US.UTF-8    LC_MESSAGES=en_US.UTF-8   \n",
       " [7] LC_PAPER=en_US.UTF-8       LC_NAME=C                 \n",
       " [9] LC_ADDRESS=C               LC_TELEPHONE=C            \n",
       "[11] LC_MEASUREMENT=en_US.UTF-8 LC_IDENTIFICATION=C       \n",
       "\n",
       "attached base packages:\n",
       "[1] stats     graphics  grDevices utils     datasets  methods   base     \n",
       "\n",
       "loaded via a namespace (and not attached):\n",
       " [1] compiler_3.4.3       magrittr_1.5         IRdisplay_0.4.9000  \n",
       " [4] pbdZMQ_0.3-2         tools_3.4.3          crayon_1.3.4        \n",
       " [7] uuid_0.1-2           stringi_1.1.6        IRkernel_0.8.12.9000\n",
       "[10] jsonlite_1.5         stringr_1.3.0        digest_0.6.15       \n",
       "[13] repr_0.12.9000       evaluate_0.10.1     "
      ]
     },
     "metadata": {},
     "output_type": "display_data"
    }
   ],
   "source": [
    "sessionInfo()"
   ]
  },
  {
   "cell_type": "code",
   "execution_count": null,
   "metadata": {},
   "outputs": [],
   "source": []
  }
 ],
 "metadata": {
  "kernelspec": {
   "display_name": "R",
   "language": "R",
   "name": "ir"
  },
  "language_info": {
   "codemirror_mode": "r",
   "file_extension": ".r",
   "mimetype": "text/x-r-source",
   "name": "R",
   "pygments_lexer": "r",
   "version": "3.4.3"
  }
 },
 "nbformat": 4,
 "nbformat_minor": 2
}
